{
 "cells": [
  {
   "cell_type": "code",
   "execution_count": null,
   "metadata": {},
   "outputs": [],
   "source": [
    "# Deret Taylor"
   ]
  },
  {
   "cell_type": "code",
   "execution_count": null,
   "metadata": {},
   "outputs": [],
   "source": [
    "import math \n",
    "pi = 3,142857142857143\n",
    "pi\n",
    "3,142857142857143\n",
    "rad = 100/pi\n",
    "31,81818181818182\n",
    "\n",
    "derajat = float(input('derajat'))\n",
    "derajat\n",
    "radian = derajat/rad\n",
    "def faktorial(n):\n",
    "    if n ==0:\n",
    "        return 1\n",
    "    else:\n",
    "        return n*faktorial(n-1)\n",
    "sin = radian-(1/faktorial(3)*(radian**3))+(1/faktorial(5)*(radian**5))-(1/faktorial(7)*(radian**7))+(1/faktorial(9)*(radian**9))-(1/faktorial(11)*(radian**11))\n",
    "cos = 1-(1/faktorial(2)*(radian**2))+(1/faktorial(4)*(radian**4))-(1/faktorial(6)*(radian**6))+(1/faktorial(8)*(radian**8))\n",
    "tan = radian + (1/(3)*(radian**3))+(2/(15)*(radian**5))+(3/(40)*(radian**7))\n",
    "\n",
    "print ('sin[0:.4f]'.format(round(sin,3)))\n",
    "print ('cos[0:.4f]'.format(round(cos,3)))\n",
    "print ('tan[0:.4f]'.format(round(tan,3)))"
   ]
  },
  {
   "cell_type": "code",
   "execution_count": null,
   "metadata": {},
   "outputs": [],
   "source": []
  },
  {
   "cell_type": "code",
   "execution_count": null,
   "metadata": {},
   "outputs": [],
   "source": []
  },
  {
   "cell_type": "code",
   "execution_count": null,
   "metadata": {},
   "outputs": [],
   "source": []
  },
  {
   "cell_type": "code",
   "execution_count": null,
   "metadata": {},
   "outputs": [],
   "source": []
  }
 ],
 "metadata": {
  "kernelspec": {
   "display_name": "Python 3",
   "language": "python",
   "name": "python3"
  },
  "language_info": {
   "codemirror_mode": {
    "name": "ipython",
    "version": 3
   },
   "file_extension": ".py",
   "mimetype": "text/x-python",
   "name": "python",
   "nbconvert_exporter": "python",
   "pygments_lexer": "ipython3",
   "version": "3.8.5"
  }
 },
 "nbformat": 4,
 "nbformat_minor": 4
}
